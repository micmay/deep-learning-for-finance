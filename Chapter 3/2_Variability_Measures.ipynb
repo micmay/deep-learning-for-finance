{
  "cells": [
    {
      "cell_type": "code",
      "execution_count": null,
      "metadata": {},
      "outputs": [],
      "source": [
        "# Importing the required library\n",
        "import pandas_datareader as pdr\n",
        "\n",
        "# Setting the beginning and end of the historical data\n",
        "start_date = '1950-01-01'\n",
        "end_date   = '2023-01-23'\n",
        "\n",
        "# Creating a dataframe and downloading the CPI data\n",
        "cpi = pdr.DataReader('CPIAUCSL', 'fred', start_date, end_date)\n",
        "\n",
        "# Printing the latest five observations of the dataframe\n",
        "print(cpi.tail())\n",
        "\n",
        "# Checking if there are nan values in the CPI dataframe\n",
        "count_nan = cpi['CPIAUCSL'].isnull().sum()\n",
        "\n",
        "# Printing the result\n",
        "print('Number of nan values in the CPI dataframe: ' + str(count_nan))\n",
        "\n",
        "# Transforming the CPI into a year-on-year measure\n",
        "cpi = cpi.pct_change(periods = 12, axis = 0) * 100\n",
        "\n",
        "# Dropping the nan values from the rows\n",
        "cpi = cpi.dropna()\n",
        "\n",
        "# Isolating the last 20 years data\n",
        "cpi_latest = cpi.iloc[-240:]\n",
        "\n",
        "# Calculating the variance of the dataset\n",
        "variance = cpi_latest[\"CPIAUCSL\"].var() \n",
        "\n",
        "# Printing the result\n",
        "print('The variance of the dataset: ' + str(variance), '%')\n",
        "\n",
        "# Calculating the standard deviation of the dataset\n",
        "standard_deviation = cpi_latest[\"CPIAUCSL\"].std() \n",
        "\n",
        "# Printing the result\n",
        "print('The standard deviation of the dataset: ' + str(standard_deviation), '%')\n",
        "\n",
        "# Calculating the range of the dataset\n",
        "range_metric = max(cpi[\"CPIAUCSL\"]) - min(cpi[\"CPIAUCSL\"])\n",
        "\n",
        "# Printing the result\n",
        "print('The range of the dataset: ' + str(range_metric), '%')\n",
        "\n"
      ]
    }
  ],
  "metadata": {
    "kernelspec": {
      "display_name": "Python 3",
      "language": "python",
      "name": "python3"
    },
    "language_info": {
      "name": "python",
      "version": "3.12"
    }
  },
  "nbformat": 4,
  "nbformat_minor": 5
}