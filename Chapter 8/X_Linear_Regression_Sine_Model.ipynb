{
  "cells": [
    {
      "cell_type": "code",
      "execution_count": null,
      "metadata": {},
      "outputs": [],
      "source": [
        "import pandas as pd\n",
        "import matplotlib.pyplot as plt\n",
        "import numpy as np\n",
        "from sklearn.linear_model import LinearRegression\n",
        "from master_function import data_preprocessing\n",
        "from master_function import plot_train_test_values, calculate_accuracy, model_bias\n",
        "from sklearn.metrics import mean_squared_error\n",
        "\n",
        "# Generate the sine wave\n",
        "x = np.arange(0,10000)\n",
        "data = np.diff((np.sin(x) + 1) * 10 + 2 * x + np.random.rand(10000) * 5)\n",
        "\n",
        "# Creating the lagged values array to forecast the returns from previous returns\n",
        "num_lags = 500\n",
        "train_test_split = 0.80\n",
        "\n",
        "# Creating the training and test sets\n",
        "x_train, y_train, x_test, y_test = data_preprocessing(data, num_lags, train_test_split)\n",
        "\n",
        "# Fitting the model\n",
        "model = LinearRegression()\n",
        "model.fit(x_train, y_train)\n",
        "\n",
        "# Predicting in-sample\n",
        "y_predicted_train = np.reshape(model.predict(x_train), (-1, 1))\n",
        "\n",
        "# Predicting out-of-sample\n",
        "y_predicted = np.reshape(model.predict(x_test), (-1, 1))\n",
        "\n",
        "# plotting\n",
        "plot_train_test_values(100, 50, y_train, y_test, y_predicted)\n",
        "\n",
        "# Performance evaluation\n",
        "print('---')\n",
        "print('Accuracy Train = ', round(calculate_accuracy(y_predicted_train, y_train), 2), '%')\n",
        "print('Accuracy Test = ', round(calculate_accuracy(y_predicted, y_test), 2), '%')\n",
        "print('RMSE Train = ', round(np.sqrt(mean_squared_error(y_predicted_train, y_train)), 10))\n",
        "print('RMSE Test = ', round(np.sqrt(mean_squared_error(y_predicted, y_test)), 10))\n",
        "print('Correlation In-Sample Predicted/Train = ', round(np.corrcoef(np.reshape(y_predicted_train, (-1)), y_train)[0][1], 3))\n",
        "print('Correlation Out-of-Sample Predicted/Test = ', round(np.corrcoef(np.reshape(y_predicted, (-1)), np.reshape(y_test, (-1)))[0][1], 3))\n",
        "print('Model Bias = ', round(model_bias(y_predicted), 2))\n",
        "print('---')\n",
        "\n",
        "from sklearn.metrics import r2_score\n",
        "\n",
        "# Assuming you have the actual target values in y_true and predicted values in y_pred\n",
        "r_squared = r2_score(y_test, y_predicted)\n",
        "print(\"R-squared:\", r_squared)"
      ]
    }
  ],
  "metadata": {
    "kernelspec": {
      "display_name": "Python 3",
      "language": "python",
      "name": "python3"
    },
    "language_info": {
      "name": "python",
      "version": "3.12"
    }
  },
  "nbformat": 4,
  "nbformat_minor": 5
}