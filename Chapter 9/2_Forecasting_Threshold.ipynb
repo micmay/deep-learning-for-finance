{
  "cells": [
    {
      "cell_type": "code",
      "execution_count": null,
      "metadata": {},
      "outputs": [],
      "source": [
        "import numpy as np\n",
        "import matplotlib.pyplot as plt\n",
        "from keras.models import Sequential\n",
        "from keras.layers import Dense\n",
        "from master_function import data_preprocessing, mass_import\n",
        "from master_function import plot_train_test_values, forecasting_threshold\n",
        "\n",
        "# Setting the hyperparameters\n",
        "num_lags = 500\n",
        "train_test_split = 0.80 \n",
        "num_neurons_in_hidden_layers = 256 \n",
        "num_epochs = 100 \n",
        "batch_size = 10\n",
        "threshold = 0.0015\n",
        "\n",
        "# Fetch the historical price data\n",
        "data = np.diff(mass_import(0, 'D1')[:, 3])\n",
        "\n",
        "# Creating the training and test sets\n",
        "x_train, y_train, x_test, y_test = data_preprocessing(data, num_lags, train_test_split)\n",
        "\n",
        "# Designing the architecture of the model\n",
        "model = Sequential()\n",
        "\n",
        "# First hidden layer\n",
        "model.add(Dense(num_neurons_in_hidden_layers, input_dim = num_lags, activation = 'relu'))  \n",
        "\n",
        "# Second hidden layer\n",
        "model.add(Dense(num_neurons_in_hidden_layers, activation = 'relu'))  \n",
        "\n",
        "# Output layer\n",
        "model.add(Dense(1))\n",
        "\n",
        "# Compiling\n",
        "model.compile(loss = 'mean_squared_error', optimizer = 'adam')\n",
        "\n",
        "# Fitting\n",
        "model.fit(x_train, y_train, epochs = num_epochs, batch_size = batch_size)\n",
        "\n",
        "# Predicting\n",
        "y_predicted = model.predict(x_test)\n",
        "\n",
        "# Threshold function\n",
        "y_predicted = forecasting_threshold(y_predicted, threshold)\n",
        "\n",
        "# Plotting\n",
        "plot_train_test_values(100, 50, y_train, y_test, y_predicted)\n"
      ]
    }
  ],
  "metadata": {
    "kernelspec": {
      "display_name": "Python 3",
      "language": "python",
      "name": "python3"
    },
    "language_info": {
      "name": "python",
      "version": "3.12"
    }
  },
  "nbformat": 4,
  "nbformat_minor": 5
}