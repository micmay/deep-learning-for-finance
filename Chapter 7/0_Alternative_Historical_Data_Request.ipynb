{
  "cells": [
    {
      "cell_type": "code",
      "execution_count": null,
      "metadata": {},
      "outputs": [],
      "source": [
        "'''\n",
        "FIRST METHOD\n",
        "'''\n",
        "\n",
        "# Importing the required libraries\n",
        "import pandas_datareader as pdr\n",
        "import numpy as np\n",
        "\n",
        "# Set the start and end dates for the data\n",
        "start_date = '2000-01-01'\n",
        "end_date   = '2023-06-01'\n",
        "\n",
        "# Fetch EURUSD price data\n",
        "data = np.array((pdr.get_data_fred('DEXUSEU', start = start_date, end = end_date)).dropna())\n",
        "\n",
        "# Difference the data and make it stationary\n",
        "data = np.diff(data[:, 0])\n",
        "\n",
        "# For EURUSD, use 'DEXUSEU'\n",
        "# For GBPUSD, use 'DEXUSUK'\n",
        "# For USDJPY, use 'DEXJPUS'\n",
        "# For S&P 500, use 'SP500'\n",
        "\n",
        "'''\n",
        "SECOND METHOD\n",
        "'''\n",
        "\n",
        "# Importing the required libraries\n",
        "import pandas as pd\n",
        "import numpy as np\n",
        "\n",
        "# Import the data\n",
        "data = np.array(pd.read_excel('Daily_EURUSD_Historical_Data.xlsx')['<CLOSE>'])\n",
        "\n",
        "# Difference the data and make it stationary\n",
        "data = np.diff(data)\n"
      ]
    }
  ],
  "metadata": {
    "kernelspec": {
      "display_name": "Python 3",
      "language": "python",
      "name": "python3"
    },
    "language_info": {
      "name": "python",
      "version": "3.12"
    }
  },
  "nbformat": 4,
  "nbformat_minor": 5
}