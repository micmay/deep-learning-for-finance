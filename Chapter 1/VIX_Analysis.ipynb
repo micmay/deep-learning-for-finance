{
  "cells": [
    {
      "cell_type": "code",
      "execution_count": null,
      "metadata": {},
      "outputs": [],
      "source": [
        "# Importing the required library\n",
        "import pandas_datareader as pdr\n",
        "\n",
        "# Setting the beginning and end of the historical data\n",
        "start_date = '1990-01-01'\n",
        "end_date   = '2023-01-23'\n",
        "\n",
        "# Creating a dataframe and downloading the VIX data\n",
        "vix = pdr.DataReader('VIXCLS', 'fred', start_date, end_date)\n",
        "\n",
        "# Printing the latest five observations of the dataframe\n",
        "print(vix.tail())\n",
        "\n",
        "# Calculating the number of nan values\n",
        "count_nan = vix['VIXCLS'].isnull().sum()\n",
        "\n",
        "# Printing the result\n",
        "print('Number of nan values in the VIX dataframe: ' + str(count_nan))\n",
        "\n",
        "# Dropping the NaN values from the rows\n",
        "vix = vix.dropna()\n",
        "\n",
        "# Taking the differences in an attempt to make the data stationary\n",
        "vix = vix.diff(periods = 1, axis = 0)\n",
        "\n",
        "# Dropping the first value of the data frame\n",
        "vix = vix.iloc[1: , :]\n",
        "\n",
        "# Calculating the mean of the dataset\n",
        "mean = vix[\"VIXCLS\"].mean()\n",
        "\n",
        "# Printing the result\n",
        "print('The mean of the dataset = ' + str(mean))\n",
        "\n",
        "# Importing the required library\n",
        "import matplotlib.pyplot as plt\n",
        "\n",
        "# Plotting the latest 250 observations in black with a label\n",
        "plt.plot(vix[-250:], color = 'black', linewidth = 1.5, \n",
        "         label = 'Change in VIX')\n",
        "\n",
        "# Plotting a red dashed horizontal line that is equal to mean\n",
        "plt.axhline(y = mean, color = 'red', linestyle = 'dashed')\n",
        "\n",
        "# Calling a grid to facilitate the visual component\n",
        "plt.grid()\n",
        "\n",
        "# Calling the legend function so it appears with the chart\n",
        "plt.legend()\n",
        "\n",
        "# Calling the plot\n",
        "plt.show()\n"
      ]
    }
  ],
  "metadata": {
    "kernelspec": {
      "display_name": "Python 3",
      "language": "python",
      "name": "python3"
    },
    "language_info": {
      "name": "python",
      "version": "3.12"
    }
  },
  "nbformat": 4,
  "nbformat_minor": 5
}